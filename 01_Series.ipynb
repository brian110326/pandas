{
  "cells": [
    {
      "cell_type": "markdown",
      "metadata": {
        "id": "view-in-github",
        "colab_type": "text"
      },
      "source": [
        "<a href=\"https://colab.research.google.com/github/brian110326/pandas/blob/main/01_Series.ipynb\" target=\"_parent\"><img src=\"https://colab.research.google.com/assets/colab-badge.svg\" alt=\"Open In Colab\"/></a>"
      ]
    },
    {
      "cell_type": "markdown",
      "id": "51dba0b9",
      "metadata": {
        "id": "51dba0b9"
      },
      "source": [
        "### [참고] <a href=\"https://pandas.pydata.org/Pandas_Cheat_Sheet.pdf\">Pandas Cheat Sheet</a>\n",
        "\n",
        "## 데이터 타입"
      ]
    },
    {
      "cell_type": "markdown",
      "id": "068e59f7",
      "metadata": {
        "id": "068e59f7"
      },
      "source": [
        "### 1.Series(https://pandas.pydata.org/docs/reference/api/pandas.Series.html)\n",
        "\n",
        "<img src=\"https://bites-data.s3.us-east-2.amazonaws.com/series_spreadsheet.png\" width=\"300\" height=\"200\">"
      ]
    },
    {
      "cell_type": "code",
      "execution_count": null,
      "id": "d57f56be",
      "metadata": {
        "id": "d57f56be"
      },
      "outputs": [],
      "source": [
        "import pandas as pd\n",
        "import numpy as np\n",
        "# pandas 장점 : package 설치 필요 X"
      ]
    },
    {
      "cell_type": "markdown",
      "id": "8b356858",
      "metadata": {
        "id": "8b356858"
      },
      "source": [
        "### 생성\n",
        "#### 1) 리스트"
      ]
    },
    {
      "cell_type": "code",
      "execution_count": null,
      "id": "4bdf91ab",
      "metadata": {
        "id": "4bdf91ab"
      },
      "outputs": [],
      "source": [
        "# list에서 시리즈 생성\n",
        "\n",
        "series = pd.Series([70,60,80])"
      ]
    },
    {
      "cell_type": "code",
      "execution_count": null,
      "id": "91ce7eb2",
      "metadata": {
        "id": "91ce7eb2",
        "colab": {
          "base_uri": "https://localhost:8080/"
        },
        "outputId": "a7094b74-0af7-4974-cc9e-0bf3b9cc7251"
      },
      "outputs": [
        {
          "output_type": "stream",
          "name": "stdout",
          "text": [
            "0    70\n",
            "1    60\n",
            "2    80\n",
            "dtype: int64\n"
          ]
        }
      ],
      "source": [
        "# index를 지정하지 않는다면 자동으로 0부터 시작\n",
        "print(series)"
      ]
    },
    {
      "cell_type": "markdown",
      "id": "2476fcbd",
      "metadata": {
        "id": "2476fcbd"
      },
      "source": [
        "#### 2) 딕셔너리"
      ]
    },
    {
      "cell_type": "code",
      "execution_count": null,
      "id": "b2ac15a0",
      "metadata": {
        "id": "b2ac15a0"
      },
      "outputs": [],
      "source": [
        "series = pd.Series({\"a\":1, \"b\":2, \"c\":3})"
      ]
    },
    {
      "cell_type": "code",
      "execution_count": null,
      "id": "de35d1ee",
      "metadata": {
        "id": "de35d1ee",
        "colab": {
          "base_uri": "https://localhost:8080/"
        },
        "outputId": "f24fe9c5-4b9a-4b6b-a21f-5af14f3a17cf"
      },
      "outputs": [
        {
          "output_type": "stream",
          "name": "stdout",
          "text": [
            "a    1\n",
            "b    2\n",
            "c    3\n",
            "dtype: int64\n"
          ]
        }
      ],
      "source": [
        "# dictionary의 경우 key값이 index로 정의됨\n",
        "print(series)"
      ]
    },
    {
      "cell_type": "code",
      "execution_count": null,
      "id": "973dba0d",
      "metadata": {
        "id": "973dba0d"
      },
      "outputs": [],
      "source": [
        "\n",
        "series = pd.Series([70,60,80], index=[\"국어\",\"영어\",\"수학\"])"
      ]
    },
    {
      "cell_type": "code",
      "execution_count": null,
      "id": "d5a05e92",
      "metadata": {
        "id": "d5a05e92",
        "colab": {
          "base_uri": "https://localhost:8080/"
        },
        "outputId": "352f1aac-b6eb-4f23-8bb4-2f7d78b0f1ae"
      },
      "outputs": [
        {
          "output_type": "stream",
          "name": "stdout",
          "text": [
            "국어    70\n",
            "영어    60\n",
            "수학    80\n",
            "dtype: int64\n"
          ]
        }
      ],
      "source": [
        "print(series)"
      ]
    },
    {
      "cell_type": "markdown",
      "id": "8c2630c2",
      "metadata": {
        "id": "8c2630c2"
      },
      "source": [
        "#### 3) ndarray"
      ]
    },
    {
      "cell_type": "code",
      "execution_count": null,
      "id": "66738ee9",
      "metadata": {
        "id": "66738ee9",
        "colab": {
          "base_uri": "https://localhost:8080/"
        },
        "outputId": "330205e6-1650-4b9f-d2b8-499e85a4c757"
      },
      "outputs": [
        {
          "output_type": "stream",
          "name": "stdout",
          "text": [
            "a    0.443851\n",
            "b    0.085067\n",
            "c   -1.189586\n",
            "d   -0.646307\n",
            "dtype: float64\n"
          ]
        }
      ],
      "source": [
        "series = pd.Series(np.random.randn(4), index=list(\"abcd\"))\n",
        "print(series)"
      ]
    },
    {
      "cell_type": "markdown",
      "id": "63a02c91",
      "metadata": {
        "id": "63a02c91"
      },
      "source": [
        "#### 4) DataFrame 이용"
      ]
    },
    {
      "cell_type": "code",
      "execution_count": null,
      "id": "339c0c56",
      "metadata": {
        "id": "339c0c56"
      },
      "outputs": [],
      "source": [
        "df = pd.DataFrame({\"a\":[1,2,3,4], \"b\":[5,6,7,8]})"
      ]
    },
    {
      "cell_type": "code",
      "execution_count": null,
      "id": "9680f018",
      "metadata": {
        "id": "9680f018",
        "colab": {
          "base_uri": "https://localhost:8080/"
        },
        "outputId": "34944cd9-ba8d-4ebc-d12f-5c6631172fc7"
      },
      "outputs": [
        {
          "output_type": "stream",
          "name": "stdout",
          "text": [
            "   a  b\n",
            "0  1  5\n",
            "1  2  6\n",
            "2  3  7\n",
            "3  4  8\n"
          ]
        }
      ],
      "source": [
        "print(df)"
      ]
    },
    {
      "cell_type": "code",
      "execution_count": null,
      "id": "9515f877",
      "metadata": {
        "id": "9515f877",
        "colab": {
          "base_uri": "https://localhost:8080/"
        },
        "outputId": "88fbdcf4-3240-4c11-8327-27390ec67571"
      },
      "outputs": [
        {
          "output_type": "stream",
          "name": "stdout",
          "text": [
            "0    1\n",
            "1    2\n",
            "2    3\n",
            "3    4\n",
            "Name: a, dtype: int64\n"
          ]
        }
      ],
      "source": [
        "series = pd.Series(df[\"a\"])\n",
        "print(series)"
      ]
    },
    {
      "cell_type": "markdown",
      "id": "0bea210c",
      "metadata": {
        "id": "0bea210c"
      },
      "source": [
        "### 조회"
      ]
    },
    {
      "cell_type": "code",
      "execution_count": null,
      "id": "15c56990",
      "metadata": {
        "id": "15c56990",
        "colab": {
          "base_uri": "https://localhost:8080/"
        },
        "outputId": "5b5738bd-3e26-4f94-dfd9-bb9bdfd79abb"
      },
      "outputs": [
        {
          "output_type": "stream",
          "name": "stdout",
          "text": [
            "국어    70\n",
            "영어    60\n",
            "수학    80\n",
            "dtype: int64\n"
          ]
        }
      ],
      "source": [
        "series = pd.Series([70,60,80], index=[\"국어\",\"영어\",\"수학\"])\n",
        "print(series)"
      ]
    },
    {
      "cell_type": "code",
      "execution_count": null,
      "id": "fd271b9e",
      "metadata": {
        "id": "fd271b9e",
        "colab": {
          "base_uri": "https://localhost:8080/"
        },
        "outputId": "0764f13a-1f50-4276-91d4-8ec6b26e3ca6"
      },
      "outputs": [
        {
          "output_type": "execute_result",
          "data": {
            "text/plain": [
              "Index(['국어', '영어', '수학'], dtype='object')"
            ]
          },
          "metadata": {},
          "execution_count": 16
        }
      ],
      "source": [
        "# index 조회\n",
        "series.index"
      ]
    },
    {
      "cell_type": "code",
      "execution_count": null,
      "id": "997c987c",
      "metadata": {
        "id": "997c987c",
        "colab": {
          "base_uri": "https://localhost:8080/"
        },
        "outputId": "2b7f0b20-8fce-4ea8-efbc-f978cc99d8c1"
      },
      "outputs": [
        {
          "output_type": "execute_result",
          "data": {
            "text/plain": [
              "array([70, 60, 80])"
            ]
          },
          "metadata": {},
          "execution_count": 18
        }
      ],
      "source": [
        "# value 조회\n",
        "series.values"
      ]
    },
    {
      "cell_type": "code",
      "execution_count": null,
      "id": "2491b80a",
      "metadata": {
        "id": "2491b80a",
        "colab": {
          "base_uri": "https://localhost:8080/",
          "height": 35
        },
        "outputId": "2f95bc31-2880-4521-ebd2-98ef7b2603fc"
      },
      "outputs": [
        {
          "output_type": "execute_result",
          "data": {
            "text/plain": [
              "'점수'"
            ],
            "application/vnd.google.colaboratory.intrinsic+json": {
              "type": "string"
            }
          },
          "metadata": {},
          "execution_count": 24
        }
      ],
      "source": [
        "# series name 조회\n",
        "series.name"
      ]
    },
    {
      "cell_type": "code",
      "execution_count": null,
      "id": "18d31ab8",
      "metadata": {
        "id": "18d31ab8"
      },
      "outputs": [],
      "source": [
        "# name 부여\n",
        "series = series.rename(\"점수\")"
      ]
    },
    {
      "cell_type": "code",
      "execution_count": null,
      "id": "e5bd242f",
      "metadata": {
        "id": "e5bd242f",
        "colab": {
          "base_uri": "https://localhost:8080/"
        },
        "outputId": "911e2bc6-7325-4020-c21b-14456d71baa4"
      },
      "outputs": [
        {
          "output_type": "stream",
          "name": "stdout",
          "text": [
            "국어    70\n",
            "영어    60\n",
            "수학    80\n",
            "Name: 점수, dtype: int64\n"
          ]
        }
      ],
      "source": [
        "print(series)"
      ]
    },
    {
      "cell_type": "markdown",
      "id": "364f6698",
      "metadata": {
        "id": "364f6698"
      },
      "source": [
        "- 인덱싱 가능 (인덱스 번호 혹은 라벨명)"
      ]
    },
    {
      "cell_type": "code",
      "execution_count": null,
      "id": "3a0fbcde",
      "metadata": {
        "id": "3a0fbcde",
        "colab": {
          "base_uri": "https://localhost:8080/"
        },
        "outputId": "dc3140aa-9d49-4313-f247-b5b224d03217"
      },
      "outputs": [
        {
          "output_type": "execute_result",
          "data": {
            "text/plain": [
              "70"
            ]
          },
          "metadata": {},
          "execution_count": 25
        }
      ],
      "source": [
        "series[0]"
      ]
    },
    {
      "cell_type": "code",
      "execution_count": null,
      "id": "e661b4be",
      "metadata": {
        "id": "e661b4be",
        "colab": {
          "base_uri": "https://localhost:8080/"
        },
        "outputId": "5545c56a-0ff3-4044-cfa5-5ba4b821ad29"
      },
      "outputs": [
        {
          "output_type": "execute_result",
          "data": {
            "text/plain": [
              "70"
            ]
          },
          "metadata": {},
          "execution_count": 26
        }
      ],
      "source": [
        "series[\"국어\"]"
      ]
    },
    {
      "cell_type": "code",
      "execution_count": null,
      "id": "68506dc1",
      "metadata": {
        "id": "68506dc1",
        "colab": {
          "base_uri": "https://localhost:8080/"
        },
        "outputId": "61410242-e283-4fda-ab81-353c99d53e0f"
      },
      "outputs": [
        {
          "output_type": "stream",
          "name": "stdout",
          "text": [
            "국어    70\n",
            "수학    80\n",
            "Name: 점수, dtype: int64\n",
            "국어    70\n",
            "수학    80\n",
            "Name: 점수, dtype: int64\n"
          ]
        }
      ],
      "source": [
        "# 0, 2번 조회\n",
        "print(series[0:3:2])\n",
        "print(series[[0,2]])"
      ]
    },
    {
      "cell_type": "markdown",
      "id": "9a08835a",
      "metadata": {
        "id": "9a08835a"
      },
      "source": [
        "- 전체 구조 파악"
      ]
    },
    {
      "cell_type": "code",
      "execution_count": null,
      "id": "5feb3da7",
      "metadata": {
        "id": "5feb3da7",
        "colab": {
          "base_uri": "https://localhost:8080/"
        },
        "outputId": "9e491697-57f8-47bb-d40c-e1b2c585d699"
      },
      "outputs": [
        {
          "output_type": "execute_result",
          "data": {
            "text/plain": [
              "(3,)"
            ]
          },
          "metadata": {},
          "execution_count": 32
        }
      ],
      "source": [
        "series.shape\n",
        "# (3,) ==> 3행"
      ]
    },
    {
      "cell_type": "code",
      "execution_count": null,
      "id": "e1263cf0",
      "metadata": {
        "id": "e1263cf0",
        "colab": {
          "base_uri": "https://localhost:8080/"
        },
        "outputId": "d4c9168e-b9c7-497f-8321-7e09678d81e4"
      },
      "outputs": [
        {
          "output_type": "execute_result",
          "data": {
            "text/plain": [
              "국어    70\n",
              "영어    60\n",
              "Name: 점수, dtype: int64"
            ]
          },
          "metadata": {},
          "execution_count": 34
        }
      ],
      "source": [
        "# head() : 앞쪽 데이터 5행을 가져옴\n",
        "series.head()"
      ]
    },
    {
      "cell_type": "code",
      "execution_count": null,
      "id": "816e5d40",
      "metadata": {
        "id": "816e5d40"
      },
      "outputs": [],
      "source": [
        "series.head(2)"
      ]
    },
    {
      "cell_type": "code",
      "execution_count": null,
      "id": "fb3d876f",
      "metadata": {
        "id": "fb3d876f",
        "colab": {
          "base_uri": "https://localhost:8080/"
        },
        "outputId": "09bb8f96-9396-4208-d07c-3af8a43b1cc5"
      },
      "outputs": [
        {
          "output_type": "execute_result",
          "data": {
            "text/plain": [
              "국어    70\n",
              "영어    60\n",
              "수학    80\n",
              "Name: 점수, dtype: int64"
            ]
          },
          "metadata": {},
          "execution_count": 35
        }
      ],
      "source": [
        "# tail() : 마지막에서 5개 가져오기\n",
        "series.tail()"
      ]
    },
    {
      "cell_type": "code",
      "execution_count": null,
      "id": "285bc5b3",
      "metadata": {
        "id": "285bc5b3",
        "colab": {
          "base_uri": "https://localhost:8080/"
        },
        "outputId": "f2d48bf5-5b18-4a22-a062-70771b1927c2"
      },
      "outputs": [
        {
          "output_type": "execute_result",
          "data": {
            "text/plain": [
              "영어    60\n",
              "수학    80\n",
              "Name: 점수, dtype: int64"
            ]
          },
          "metadata": {},
          "execution_count": 36
        }
      ],
      "source": [
        "series.tail(2)"
      ]
    },
    {
      "cell_type": "markdown",
      "id": "083d4550",
      "metadata": {
        "id": "083d4550"
      },
      "source": [
        "### 수정\n",
        "><b>index 수정</b>"
      ]
    },
    {
      "cell_type": "code",
      "execution_count": null,
      "id": "edb8effc",
      "metadata": {
        "id": "edb8effc",
        "colab": {
          "base_uri": "https://localhost:8080/"
        },
        "outputId": "281bc3e3-98cc-4e87-a1f3-3369e78f683c"
      },
      "outputs": [
        {
          "output_type": "stream",
          "name": "stdout",
          "text": [
            "Index(['미술', '음악', '체육'], dtype='object')\n"
          ]
        }
      ],
      "source": [
        "series.index = [\"미술\",\"음악\",\"체육\"]\n",
        "print(series.index)"
      ]
    },
    {
      "cell_type": "markdown",
      "id": "5385f3ad",
      "metadata": {
        "id": "5385f3ad"
      },
      "source": [
        "><b>특정 값 수정</b>"
      ]
    },
    {
      "cell_type": "code",
      "execution_count": null,
      "id": "a6938238",
      "metadata": {
        "id": "a6938238",
        "colab": {
          "base_uri": "https://localhost:8080/"
        },
        "outputId": "ad1aaa69-d3a7-4b5a-b847-ede8a997a899"
      },
      "outputs": [
        {
          "output_type": "stream",
          "name": "stdout",
          "text": [
            "77\n"
          ]
        }
      ],
      "source": [
        "series[\"미술\"] = 77\n",
        "print(series[\"미술\"])"
      ]
    },
    {
      "cell_type": "markdown",
      "id": "79fbe5da",
      "metadata": {
        "id": "79fbe5da"
      },
      "source": [
        "><b>데이터 타입 변경</b>"
      ]
    },
    {
      "cell_type": "code",
      "execution_count": null,
      "id": "80176db3",
      "metadata": {
        "id": "80176db3",
        "colab": {
          "base_uri": "https://localhost:8080/"
        },
        "outputId": "c3579125-6863-40e1-b629-8ff1c85e2b7e"
      },
      "outputs": [
        {
          "output_type": "stream",
          "name": "stdout",
          "text": [
            "0    1\n",
            "1    1\n",
            "2    1\n",
            "dtype: int64\n"
          ]
        }
      ],
      "source": [
        "series1 = pd.Series([1,1,1])\n",
        "print(series1)"
      ]
    },
    {
      "cell_type": "code",
      "execution_count": null,
      "id": "53692b19",
      "metadata": {
        "id": "53692b19",
        "colab": {
          "base_uri": "https://localhost:8080/"
        },
        "outputId": "2ce82e7b-cdea-42c2-b45f-c9cca2f418b9"
      },
      "outputs": [
        {
          "output_type": "execute_result",
          "data": {
            "text/plain": [
              "0    1.0\n",
              "1    1.0\n",
              "2    1.0\n",
              "dtype: float64"
            ]
          },
          "metadata": {},
          "execution_count": 44
        }
      ],
      "source": [
        "# astype(변경할타입) ==> 원본이 바뀌지않음\n",
        "series1.astype(\"float\")"
      ]
    },
    {
      "cell_type": "code",
      "execution_count": null,
      "id": "0dd29ecc",
      "metadata": {
        "id": "0dd29ecc",
        "colab": {
          "base_uri": "https://localhost:8080/"
        },
        "outputId": "7ac40ad2-864f-4b01-c64c-0b761f379f68"
      },
      "outputs": [
        {
          "output_type": "stream",
          "name": "stdout",
          "text": [
            "0    1.0\n",
            "1    1.0\n",
            "2    1.0\n",
            "dtype: float64\n"
          ]
        }
      ],
      "source": [
        "# 원본 변경\n",
        "series1 = series1.astype(\"float\")\n",
        "print(series1)\n"
      ]
    },
    {
      "cell_type": "code",
      "execution_count": null,
      "id": "2646d838",
      "metadata": {
        "id": "2646d838"
      },
      "outputs": [],
      "source": [
        "\n"
      ]
    },
    {
      "cell_type": "markdown",
      "id": "8dd1ad69",
      "metadata": {
        "id": "8dd1ad69"
      },
      "source": [
        "**astype 사용 시 주의점 : 변경할 수 없는 데이터가 들어있는 경우**"
      ]
    },
    {
      "cell_type": "code",
      "execution_count": null,
      "id": "f0ccfa4f",
      "metadata": {
        "id": "f0ccfa4f",
        "colab": {
          "base_uri": "https://localhost:8080/"
        },
        "outputId": "0b5e1027-c184-436c-ec24-1c1abe78faa6"
      },
      "outputs": [
        {
          "output_type": "execute_result",
          "data": {
            "text/plain": [
              "0    1.1\n",
              "1    2.2\n",
              "2    3.3\n",
              "dtype: float64"
            ]
          },
          "metadata": {},
          "execution_count": 49
        }
      ],
      "source": [
        "series1 = pd.Series([\"1.1\",\"2.2\",\"3.3\"]) # object\n",
        "series1.astype(\"float\")"
      ]
    },
    {
      "cell_type": "code",
      "execution_count": null,
      "id": "30631f17",
      "metadata": {
        "scrolled": true,
        "id": "30631f17"
      },
      "outputs": [],
      "source": [
        "# series1 = pd.Series([\"text\",\"2.2\",\"3.3\"]) # object\n",
        "# series1.astype(\"float\")"
      ]
    },
    {
      "cell_type": "markdown",
      "id": "3b2841c7",
      "metadata": {
        "id": "3b2841c7"
      },
      "source": [
        "### 삭제\n",
        "><b>특정 행 삭제</b>"
      ]
    },
    {
      "cell_type": "code",
      "execution_count": null,
      "id": "e13adab3",
      "metadata": {
        "id": "e13adab3",
        "colab": {
          "base_uri": "https://localhost:8080/"
        },
        "outputId": "572276f9-e9b7-4512-bb76-35b7e81afa04"
      },
      "outputs": [
        {
          "output_type": "execute_result",
          "data": {
            "text/plain": [
              "미술    77\n",
              "음악    60\n",
              "체육    80\n",
              "Name: 점수, dtype: int64"
            ]
          },
          "metadata": {},
          "execution_count": 53
        }
      ],
      "source": [
        "series"
      ]
    },
    {
      "cell_type": "code",
      "execution_count": null,
      "id": "cfe793bc",
      "metadata": {
        "id": "cfe793bc"
      },
      "outputs": [],
      "source": [
        "del series[\"체육\"]"
      ]
    },
    {
      "cell_type": "code",
      "execution_count": null,
      "id": "ae64df33",
      "metadata": {
        "id": "ae64df33",
        "colab": {
          "base_uri": "https://localhost:8080/"
        },
        "outputId": "1f9b5c3e-4450-4a68-8a6d-7529423f02b9"
      },
      "outputs": [
        {
          "output_type": "execute_result",
          "data": {
            "text/plain": [
              "미술    77\n",
              "음악    60\n",
              "Name: 점수, dtype: int64"
            ]
          },
          "metadata": {},
          "execution_count": 55
        }
      ],
      "source": [
        "series"
      ]
    },
    {
      "cell_type": "code",
      "source": [],
      "metadata": {
        "id": "W9x2Jz95w3jU"
      },
      "id": "W9x2Jz95w3jU",
      "execution_count": null,
      "outputs": []
    }
  ],
  "metadata": {
    "kernelspec": {
      "display_name": "Python 3 (ipykernel)",
      "language": "python",
      "name": "python3"
    },
    "language_info": {
      "codemirror_mode": {
        "name": "ipython",
        "version": 3
      },
      "file_extension": ".py",
      "mimetype": "text/x-python",
      "name": "python",
      "nbconvert_exporter": "python",
      "pygments_lexer": "ipython3",
      "version": "3.9.12"
    },
    "colab": {
      "provenance": [],
      "toc_visible": true,
      "include_colab_link": true
    }
  },
  "nbformat": 4,
  "nbformat_minor": 5
}